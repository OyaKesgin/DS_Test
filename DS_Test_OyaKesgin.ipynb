{
 "cells": [
  {
   "cell_type": "markdown",
   "metadata": {
    "id": "mLnNj2z2o-Do"
   },
   "source": [
    "# Data Science Test\n",
    "\n",
    " \n",
    "\n"
   ]
  },
  {
   "cell_type": "markdown",
   "metadata": {
    "id": "pqK_TXr83oJ0"
   },
   "source": [
    "## Python\n",
    "\n",
    "Complete the following exercises which is set to test your Python ability and understanding."
   ]
  },
  {
   "cell_type": "markdown",
   "metadata": {
    "id": "KBTgauJq45dc"
   },
   "source": [
    "### Exercise 1.1\n",
    "\n",
    "Below uses a loop to find the intersection of two lists of book ids. "
   ]
  },
  {
   "cell_type": "code",
   "execution_count": 1,
   "metadata": {
    "colab": {
     "base_uri": "https://localhost:8080/"
    },
    "id": "0xCBBUfj90Sh",
    "outputId": "82275c61-e957-4cbe-d6f4-f5236df742c8"
   },
   "outputs": [
    {
     "name": "stdout",
     "output_type": "stream",
     "text": [
      "96\n",
      "Duration: 0.3756980895996094 seconds\n"
     ]
    }
   ],
   "source": [
    "import time\n",
    "import pandas as pd\n",
    "import numpy as np\n",
    "\n",
    "# File to use. All Coding Books is a list of IDs for all coding books and Books In Last Two Years \n",
    "# is a list of IDs of all books published in the last two years\n",
    "all_coding_books = \"https://raw.githubusercontent.com/ksynnott/VM-DS-Data/master/all_coding_books.txt\"\n",
    "books_in_last_two_years = \"https://raw.githubusercontent.com/ksynnott/VM-DS-Data/master/books_published_last_two_years.txt\"\n",
    "\n",
    "# Read files to numpy arrays\n",
    "recent_books = np.genfromtxt(books_in_last_two_years , delimiter=\"\\n\")\n",
    "coding_books = np.genfromtxt(all_coding_books ,delimiter=\"\\n\")\n",
    "\n",
    "# Start clock\n",
    "start = time.time()\n",
    "recent_coding_books = [] # Set recent coding book array\n",
    "\n",
    "# Loop through recent_book and see if ID matches an ID in coding books\n",
    "\n",
    "for book in recent_books:\n",
    "    if book in coding_books:\n",
    "        recent_coding_books.append(book)\n",
    "\n",
    "# Print Length and Duration\n",
    "print(len(recent_coding_books))\n",
    "print('Duration: {} seconds'.format(time.time() - start))\n"
   ]
  },
  {
   "cell_type": "markdown",
   "metadata": {
    "id": "6aZtEVFCi3tw"
   },
   "source": [
    "\n",
    "\n",
    "```\n",
    "# This is formatted as code\n",
    "```\n",
    "\n",
    "Can you execute in a faster way using arrays? "
   ]
  },
  {
   "cell_type": "code",
   "execution_count": 2,
   "metadata": {
    "colab": {
     "base_uri": "https://localhost:8080/"
    },
    "id": "-h-pc0P093_e",
    "outputId": "970234b9-4555-48de-a529-27e54ec3bed6"
   },
   "outputs": [
    {
     "name": "stdout",
     "output_type": "stream",
     "text": [
      "96\n",
      "Duration of array code: 0.03397512435913086 seconds\n",
      "0\n"
     ]
    }
   ],
   "source": [
    "\"\"\"\n",
    "\n",
    "Excercise 1.1\n",
    "FASTER METHOD USING ARRAYS \n",
    "\n",
    "\"\"\"\n",
    "#Starting new clock\n",
    "starts = time.time()\n",
    "\n",
    "#Creating new arrays from olds lists\n",
    "codin_books_array = np.array(coding_books)\n",
    "recent_books_array = np.array(recent_books)\n",
    "\n",
    "#my code is below.\n",
    "recent_coding_books_II = set(recent_books).intersection(coding_books)\n",
    "\n",
    "#Finding intersections between two arrays\n",
    "#recent_coding_books_II = np.intersect1d(codin_books_array,recent_books_array)\n",
    "        \n",
    "#Printing Length and Duration\n",
    "print(len(recent_coding_books_II))\n",
    "print('Duration of array code: {} seconds'.format(time.time() - starts)) \n",
    "\n",
    "#CHECKING WORK IS CORRECT\n",
    "\n",
    "#Checking if the lenght of the previous answer's list and new answer's array are the same\n",
    "print(len(recent_coding_books)-len(recent_coding_books_II))\n",
    "#If the answer is 0, then they have the same length\n",
    "#recent codding books and recent_coding lenght=0\n",
    "# Duration of array code: 0.011\n"
   ]
  },
  {
   "cell_type": "markdown",
   "metadata": {
    "id": "yO0FLKBUIVZr"
   },
   "source": [
    "### Exercise 1.2\n",
    "\n",
    "You have an ecommerce gift store which has 50,000 users that each listed a gift on a wish list. You have the prices for each of these gifts stored in gift_price.txt. In an effort to bring your business to the top of mind during the COVID lockdown, you're going to give each customer their wish list gift for free if it is under £25. Calculate the total cost of all gifts under £25 to see how much you'd spend on free gifts. Here's one way you could've done it."
   ]
  },
  {
   "cell_type": "code",
   "execution_count": null,
   "metadata": {
    "colab": {
     "base_uri": "https://localhost:8080/"
    },
    "id": "JUfezgTGIr1t",
    "outputId": "6bad42fb-49c4-49f1-8ece-a1c057682827"
   },
   "outputs": [
    {
     "name": "stdout",
     "output_type": "stream",
     "text": [
      "444923.0\n",
      "Duration: 0.062345266342163086 seconds\n"
     ]
    }
   ],
   "source": [
    "import time\n",
    "import pandas as pd\n",
    "import numpy as np\n",
    "\n",
    "# The gifts cost file is the list of gift prices\n",
    "gifts = \"https://raw.githubusercontent.com/ksynnott/VM-DS-Data/master/gift_price.txt\"\n",
    "gift_costs = np.genfromtxt(gifts, delimiter=\"\\n\")\n",
    "\n",
    "start = time.time()\n",
    "\n",
    "total_price = 0\n",
    "# Loop for each price in array\n",
    "for cost in gift_costs:\n",
    "    if cost < 25:\n",
    "        total_price += cost\n",
    "\n",
    "print(total_price)\n",
    "print('Duration: {} seconds'.format(time.time() - start))\n"
   ]
  },
  {
   "cell_type": "markdown",
   "metadata": {
    "id": "Ei_rVBVlvr02"
   },
   "source": [
    "Can you refactor this to run in half the time? "
   ]
  },
  {
   "cell_type": "code",
   "execution_count": null,
   "metadata": {
    "colab": {
     "base_uri": "https://localhost:8080/"
    },
    "id": "Pt00ssbHLW2U",
    "outputId": "e08515d1-0469-49b9-bc1e-8682bb4fc18f"
   },
   "outputs": [
    {
     "name": "stdout",
     "output_type": "stream",
     "text": [
      "444923.0\n",
      "Duration: 0.0027227401733398438 seconds\n",
      "0.0\n"
     ]
    }
   ],
   "source": [
    "\"\"\" \n",
    "\n",
    "Excercise 1.2\n",
    "HALF THE TIME \n",
    "\n",
    "\n",
    "\"\"\"\n",
    "\n",
    "#Adding up the total cost of all gifts that sum up under 25\n",
    "start_II = time.time()\n",
    "\n",
    "#Converting the gift_costs list into array\n",
    "gift_cost_II = np.array(gift_costs)\n",
    "\n",
    "#Filtering indices that are under £25\n",
    "#free = np.where(gift_cost_II < 25)\n",
    "\n",
    "#Creating new array with all indices under £25\n",
    "#under_25 = gift_cost_II[free]\n",
    "\n",
    "#Summarising indices to find the total price of all gifts under £25\n",
    "#total_price_II = np.sum(under_25)\n",
    "\n",
    "#Mycode \n",
    "total_price_II = (gift_cost_II[gift_cost_II < 25]).sum()\n",
    "\n",
    "\n",
    "print(total_price_II)\n",
    "print('Duration: {} seconds'.format(time.time() - start_II))\n",
    "\n",
    "\n",
    "#CHECKING WORK IS CORRECT\n",
    "print(total_price - total_price_II)\n",
    "#If the answer is 0, then both values are the same\n",
    "# both values are the same and Duration: 0.002706904983520508\n",
    "\n"
   ]
  },
  {
   "cell_type": "markdown",
   "metadata": {
    "id": "rUngXDZvwkm5"
   },
   "source": [
    "## Pandas\n",
    "\n",
    "Complete the following exercises which is set to test your Pandas ability and understanding."
   ]
  },
  {
   "cell_type": "code",
   "execution_count": null,
   "metadata": {
    "colab": {
     "base_uri": "https://localhost:8080/",
     "height": 224
    },
    "id": "H5HGqYVswqmb",
    "outputId": "fc9ac2d4-e564-4a16-f1e0-eaaae049c903"
   },
   "outputs": [
    {
     "data": {
      "text/html": [
       "<div>\n",
       "<style scoped>\n",
       "    .dataframe tbody tr th:only-of-type {\n",
       "        vertical-align: middle;\n",
       "    }\n",
       "\n",
       "    .dataframe tbody tr th {\n",
       "        vertical-align: top;\n",
       "    }\n",
       "\n",
       "    .dataframe thead th {\n",
       "        text-align: right;\n",
       "    }\n",
       "</style>\n",
       "<table border=\"1\" class=\"dataframe\">\n",
       "  <thead>\n",
       "    <tr style=\"text-align: right;\">\n",
       "      <th></th>\n",
       "      <th>fixed_acidity</th>\n",
       "      <th>volatile_acidity</th>\n",
       "      <th>citric_acid</th>\n",
       "      <th>residual_sugar</th>\n",
       "      <th>chlorides</th>\n",
       "      <th>free_sulphur_dioxide</th>\n",
       "      <th>total_sulphur_dioxide</th>\n",
       "      <th>density</th>\n",
       "      <th>pH</th>\n",
       "      <th>sulphates</th>\n",
       "      <th>alcohol</th>\n",
       "      <th>quality</th>\n",
       "    </tr>\n",
       "  </thead>\n",
       "  <tbody>\n",
       "    <tr>\n",
       "      <th>0</th>\n",
       "      <td>7.4</td>\n",
       "      <td>0.70</td>\n",
       "      <td>0.00</td>\n",
       "      <td>1.9</td>\n",
       "      <td>0.076</td>\n",
       "      <td>11.0</td>\n",
       "      <td>34.0</td>\n",
       "      <td>0.9978</td>\n",
       "      <td>3.51</td>\n",
       "      <td>0.56</td>\n",
       "      <td>9.4</td>\n",
       "      <td>5</td>\n",
       "    </tr>\n",
       "    <tr>\n",
       "      <th>1</th>\n",
       "      <td>7.8</td>\n",
       "      <td>0.88</td>\n",
       "      <td>0.00</td>\n",
       "      <td>2.6</td>\n",
       "      <td>0.098</td>\n",
       "      <td>25.0</td>\n",
       "      <td>67.0</td>\n",
       "      <td>0.9968</td>\n",
       "      <td>3.20</td>\n",
       "      <td>0.68</td>\n",
       "      <td>9.8</td>\n",
       "      <td>5</td>\n",
       "    </tr>\n",
       "    <tr>\n",
       "      <th>2</th>\n",
       "      <td>7.8</td>\n",
       "      <td>0.76</td>\n",
       "      <td>0.04</td>\n",
       "      <td>2.3</td>\n",
       "      <td>0.092</td>\n",
       "      <td>15.0</td>\n",
       "      <td>54.0</td>\n",
       "      <td>0.9970</td>\n",
       "      <td>3.26</td>\n",
       "      <td>0.65</td>\n",
       "      <td>9.8</td>\n",
       "      <td>5</td>\n",
       "    </tr>\n",
       "    <tr>\n",
       "      <th>3</th>\n",
       "      <td>11.2</td>\n",
       "      <td>0.28</td>\n",
       "      <td>0.56</td>\n",
       "      <td>1.9</td>\n",
       "      <td>0.075</td>\n",
       "      <td>17.0</td>\n",
       "      <td>60.0</td>\n",
       "      <td>0.9980</td>\n",
       "      <td>3.16</td>\n",
       "      <td>0.58</td>\n",
       "      <td>9.8</td>\n",
       "      <td>6</td>\n",
       "    </tr>\n",
       "    <tr>\n",
       "      <th>4</th>\n",
       "      <td>7.4</td>\n",
       "      <td>0.70</td>\n",
       "      <td>0.00</td>\n",
       "      <td>1.9</td>\n",
       "      <td>0.076</td>\n",
       "      <td>11.0</td>\n",
       "      <td>34.0</td>\n",
       "      <td>0.9978</td>\n",
       "      <td>3.51</td>\n",
       "      <td>0.56</td>\n",
       "      <td>9.4</td>\n",
       "      <td>5</td>\n",
       "    </tr>\n",
       "  </tbody>\n",
       "</table>\n",
       "</div>"
      ],
      "text/plain": [
       "   fixed_acidity  volatile_acidity  citric_acid  ...  sulphates  alcohol  quality\n",
       "0            7.4              0.70         0.00  ...       0.56      9.4        5\n",
       "1            7.8              0.88         0.00  ...       0.68      9.8        5\n",
       "2            7.8              0.76         0.04  ...       0.65      9.8        5\n",
       "3           11.2              0.28         0.56  ...       0.58      9.8        6\n",
       "4            7.4              0.70         0.00  ...       0.56      9.4        5\n",
       "\n",
       "[5 rows x 12 columns]"
      ]
     },
     "execution_count": 7,
     "metadata": {
      "tags": []
     },
     "output_type": "execute_result"
    }
   ],
   "source": [
    "import pandas as pd\n",
    "\n",
    "wine_file = \"https://raw.githubusercontent.com/ksynnott/VM-DS-Data/master/winequality.csv\"\n",
    "\n",
    "#df = pd.read_csv(wine_file, sep=';')\n",
    "#df.head()\n",
    "#My Code added lambda function\n",
    "df = pd.read_csv(wine_file, sep=';').rename(columns=lambda x:x.replace(\" \",\"_\"))\n",
    "df.head()"
   ]
  },
  {
   "cell_type": "markdown",
   "metadata": {
    "id": "0iO6LACsy0_b"
   },
   "source": [
    "### Exercise 2.1\n",
    "\n",
    "Replace the spaces in the column labels with underscores to be able to reference columns with dot notation"
   ]
  },
  {
   "cell_type": "code",
   "execution_count": null,
   "metadata": {
    "colab": {
     "base_uri": "https://localhost:8080/",
     "height": 224
    },
    "id": "5LzhT6D6xgEY",
    "outputId": "df21c325-db67-4a6d-911b-2307f54ce938"
   },
   "outputs": [
    {
     "data": {
      "text/html": [
       "<div>\n",
       "<style scoped>\n",
       "    .dataframe tbody tr th:only-of-type {\n",
       "        vertical-align: middle;\n",
       "    }\n",
       "\n",
       "    .dataframe tbody tr th {\n",
       "        vertical-align: top;\n",
       "    }\n",
       "\n",
       "    .dataframe thead th {\n",
       "        text-align: right;\n",
       "    }\n",
       "</style>\n",
       "<table border=\"1\" class=\"dataframe\">\n",
       "  <thead>\n",
       "    <tr style=\"text-align: right;\">\n",
       "      <th></th>\n",
       "      <th>fixed_acidity</th>\n",
       "      <th>volatile_acidity</th>\n",
       "      <th>citric_acid</th>\n",
       "      <th>residual_sugar</th>\n",
       "      <th>chlorides</th>\n",
       "      <th>free_sulphur_dioxide</th>\n",
       "      <th>total_sulphur_dioxide</th>\n",
       "      <th>density</th>\n",
       "      <th>pH</th>\n",
       "      <th>sulphates</th>\n",
       "      <th>alcohol</th>\n",
       "      <th>quality</th>\n",
       "    </tr>\n",
       "  </thead>\n",
       "  <tbody>\n",
       "    <tr>\n",
       "      <th>0</th>\n",
       "      <td>7.4</td>\n",
       "      <td>0.70</td>\n",
       "      <td>0.00</td>\n",
       "      <td>1.9</td>\n",
       "      <td>0.076</td>\n",
       "      <td>11.0</td>\n",
       "      <td>34.0</td>\n",
       "      <td>0.9978</td>\n",
       "      <td>3.51</td>\n",
       "      <td>0.56</td>\n",
       "      <td>9.4</td>\n",
       "      <td>5</td>\n",
       "    </tr>\n",
       "    <tr>\n",
       "      <th>1</th>\n",
       "      <td>7.8</td>\n",
       "      <td>0.88</td>\n",
       "      <td>0.00</td>\n",
       "      <td>2.6</td>\n",
       "      <td>0.098</td>\n",
       "      <td>25.0</td>\n",
       "      <td>67.0</td>\n",
       "      <td>0.9968</td>\n",
       "      <td>3.20</td>\n",
       "      <td>0.68</td>\n",
       "      <td>9.8</td>\n",
       "      <td>5</td>\n",
       "    </tr>\n",
       "    <tr>\n",
       "      <th>2</th>\n",
       "      <td>7.8</td>\n",
       "      <td>0.76</td>\n",
       "      <td>0.04</td>\n",
       "      <td>2.3</td>\n",
       "      <td>0.092</td>\n",
       "      <td>15.0</td>\n",
       "      <td>54.0</td>\n",
       "      <td>0.9970</td>\n",
       "      <td>3.26</td>\n",
       "      <td>0.65</td>\n",
       "      <td>9.8</td>\n",
       "      <td>5</td>\n",
       "    </tr>\n",
       "    <tr>\n",
       "      <th>3</th>\n",
       "      <td>11.2</td>\n",
       "      <td>0.28</td>\n",
       "      <td>0.56</td>\n",
       "      <td>1.9</td>\n",
       "      <td>0.075</td>\n",
       "      <td>17.0</td>\n",
       "      <td>60.0</td>\n",
       "      <td>0.9980</td>\n",
       "      <td>3.16</td>\n",
       "      <td>0.58</td>\n",
       "      <td>9.8</td>\n",
       "      <td>6</td>\n",
       "    </tr>\n",
       "    <tr>\n",
       "      <th>4</th>\n",
       "      <td>7.4</td>\n",
       "      <td>0.70</td>\n",
       "      <td>0.00</td>\n",
       "      <td>1.9</td>\n",
       "      <td>0.076</td>\n",
       "      <td>11.0</td>\n",
       "      <td>34.0</td>\n",
       "      <td>0.9978</td>\n",
       "      <td>3.51</td>\n",
       "      <td>0.56</td>\n",
       "      <td>9.4</td>\n",
       "      <td>5</td>\n",
       "    </tr>\n",
       "  </tbody>\n",
       "</table>\n",
       "</div>"
      ],
      "text/plain": [
       "   fixed_acidity  volatile_acidity  citric_acid  ...  sulphates  alcohol  quality\n",
       "0            7.4              0.70         0.00  ...       0.56      9.4        5\n",
       "1            7.8              0.88         0.00  ...       0.68      9.8        5\n",
       "2            7.8              0.76         0.04  ...       0.65      9.8        5\n",
       "3           11.2              0.28         0.56  ...       0.58      9.8        6\n",
       "4            7.4              0.70         0.00  ...       0.56      9.4        5\n",
       "\n",
       "[5 rows x 12 columns]"
      ]
     },
     "execution_count": 8,
     "metadata": {
      "tags": []
     },
     "output_type": "execute_result"
    }
   ],
   "source": [
    "\"\"\"\n",
    "\n",
    "Excercise 2.1\n",
    "\n",
    "\"\"\"\n",
    "#Replacing space with underscore in column labels\n",
    "#df.columns = df.columns.str.replace(' ','_')\n",
    "\n",
    "#My Code\n",
    "df = pd.read_csv(wine_file, sep=';').rename(columns=lambda x:x.replace(\" \",\"_\"))\n",
    "df.head()"
   ]
  },
  {
   "cell_type": "markdown",
   "metadata": {
    "id": "Ua4hU6ZczRqx"
   },
   "source": [
    "### Exercise 2.2\n",
    "\n",
    "Investigate how different features of this dataset relate to the quality rating of the wine.\n",
    "\n",
    "A very simple way you could do this is by observing the medium quality rating for the top and bottom half of each feature.\n",
    "\n",
    "\n",
    "Write a function that takes in the dataframe and the column name (feature) which then converts that feature value to a string. This string is \"high\" is the feature value is above the medium and \"low\" if it is below. \n",
    "\n",
    "\n"
   ]
  },
  {
   "cell_type": "code",
   "execution_count": null,
   "metadata": {
    "id": "bGBRQqoQ0BtF"
   },
   "outputs": [],
   "source": [
    "\"\"\"\n",
    "\n",
    "Excercise 2.2\n",
    "\n",
    "\"\"\"\n",
    "def numeric_to_buckets(df, column_name):\n",
    "\n",
    "    #finding the median of each feature\n",
    "    med = df[column_name].median()\n",
    "    \n",
    "    #Allowing iteration via the enumerate function\n",
    "    for row, val in enumerate(df[column_name]):\n",
    "        if val >= med:\n",
    "            df.loc[row, column_name] = 'High'\n",
    "        else:\n",
    "            df.loc[row, column_name] = 'Low' \n",
    "\n",
    "            "
   ]
  },
  {
   "cell_type": "markdown",
   "metadata": {
    "id": "vsMPT7R930oG"
   },
   "source": [
    "Use the function you created to print the wine quality for the high and low buckers of the feature\n",
    "\n",
    "The result for Fixed Acidity is shown here\n",
    "\n",
    "high    5.726061\n",
    "\n",
    "low     5.540052\n"
   ]
  },
  {
   "cell_type": "code",
   "execution_count": null,
   "metadata": {
    "colab": {
     "base_uri": "https://localhost:8080/"
    },
    "id": "ktG_fT423-E9",
    "outputId": "88924848-213d-4bf2-f70e-c4d2bb8cf678"
   },
   "outputs": [
    {
     "name": "stdout",
     "output_type": "stream",
     "text": [
      "fixed_acidity\n",
      "High    5.726061\n",
      "Low     5.540052\n",
      "Name: quality, dtype: float64 \n",
      "\n",
      "volatile_acidity\n",
      "High    5.392157\n",
      "Low     5.890166\n",
      "Name: quality, dtype: float64 \n",
      "\n",
      "citric_acid\n",
      "High    5.822360\n",
      "Low     5.447103\n",
      "Name: quality, dtype: float64 \n",
      "\n",
      "residual_sugar\n",
      "High    5.665880\n",
      "Low     5.602394\n",
      "Name: quality, dtype: float64 \n",
      "\n",
      "chlorides\n",
      "High    5.507194\n",
      "Low     5.776471\n",
      "Name: quality, dtype: float64 \n",
      "\n",
      "free_sulphur_dioxide\n",
      "High    5.595268\n",
      "Low     5.677136\n",
      "Name: quality, dtype: float64 \n",
      "\n",
      "total_sulphur_dioxide\n",
      "High    5.522981\n",
      "Low     5.750630\n",
      "Name: quality, dtype: float64 \n",
      "\n",
      "density\n",
      "High    5.540574\n",
      "Low     5.731830\n",
      "Name: quality, dtype: float64 \n",
      "\n",
      "pH\n",
      "High    5.598039\n",
      "Low     5.675607\n",
      "Name: quality, dtype: float64 \n",
      "\n",
      "sulphates\n",
      "High    5.898917\n",
      "Low     5.351562\n",
      "Name: quality, dtype: float64 \n",
      "\n",
      "alcohol\n",
      "High    5.958904\n",
      "Low     5.310302\n",
      "Name: quality, dtype: float64 \n",
      "\n"
     ]
    }
   ],
   "source": [
    "# Make a copy of the dataframe \n",
    "df_copy = df.copy()\n",
    "\n",
    "\n",
    "for feature in df_copy.columns[:-1]: # loop over all features\n",
    "    numeric_to_buckets(df_copy, feature) # the function you created\n",
    "    print(df_copy.groupby(feature).quality.mean(), '\\n')"
   ]
  },
  {
   "cell_type": "code",
   "execution_count": null,
   "metadata": {
    "colab": {
     "base_uri": "https://localhost:8080/",
     "height": 583
    },
    "id": "PBwm4NRM40EA",
    "outputId": "53359b84-b984-483b-f55a-3a4bc08824c5"
   },
   "outputs": [
    {
     "data": {
      "image/png": "[encoded data removed]",
      "text/plain": [
       "<Figure size 720x576 with 2 Axes>"
      ]
     },
     "metadata": {
      "needs_background": "light",
      "tags": []
     },
     "output_type": "display_data"
    }
   ],
   "source": [
    "# i would correlation matrix to see how quality and other features are correlated with each other and quality.\n",
    "\n",
    "import matplotlib.pyplot as plt\n",
    "import seaborn as sns \n",
    "correlation = df.corr()\n",
    "# display(correlation)\n",
    "plt.figure(figsize=(10, 8))\n",
    "heatmap = sns.heatmap(correlation, annot=True, linewidths=0, vmin=-1, cmap=\"RdBu_r\")\n",
    "# quality is correlated more with alcohol and volatile_acidity than any other features."
   ]
  },
  {
   "cell_type": "markdown",
   "metadata": {
    "id": "U8aF2LnN8y2-"
   },
   "source": [
    "### Exercise 2.3\n",
    "\n",
    "Generate density plots for the following features \n",
    "\n",
    "\n",
    "\n",
    "*   pH\n",
    "*   Density\n",
    "*   Alcohol\n",
    "*   Sulphates\n",
    "\n",
    "\n",
    "It should look as follows\n",
    "\n",
    "\n",
    "![alt text](https://raw.githubusercontent.com/ksynnott/VM-DS-Data/master/download%20(3).png)\n"
   ]
  },
  {
   "cell_type": "code",
   "execution_count": null,
   "metadata": {
    "colab": {
     "base_uri": "https://localhost:8080/",
     "height": 480
    },
    "id": "j6tyx0NG4wol",
    "outputId": "1a46b03b-e294-4960-9ce1-55d45f328eb1"
   },
   "outputs": [
    {
     "name": "stderr",
     "output_type": "stream",
     "text": [
      "/usr/local/lib/python3.6/dist-packages/seaborn/distributions.py:2557: FutureWarning: `distplot` is a deprecated function and will be removed in a future version. Please adapt your code to use either `displot` (a figure-level function with similar flexibility) or `histplot` (an axes-level function for histograms).\n",
      "  warnings.warn(msg, FutureWarning)\n",
      "/usr/local/lib/python3.6/dist-packages/seaborn/distributions.py:2557: FutureWarning: `distplot` is a deprecated function and will be removed in a future version. Please adapt your code to use either `displot` (a figure-level function with similar flexibility) or `histplot` (an axes-level function for histograms).\n",
      "  warnings.warn(msg, FutureWarning)\n",
      "/usr/local/lib/python3.6/dist-packages/seaborn/distributions.py:2557: FutureWarning: `distplot` is a deprecated function and will be removed in a future version. Please adapt your code to use either `displot` (a figure-level function with similar flexibility) or `histplot` (an axes-level function for histograms).\n",
      "  warnings.warn(msg, FutureWarning)\n",
      "/usr/local/lib/python3.6/dist-packages/seaborn/distributions.py:2557: FutureWarning: `distplot` is a deprecated function and will be removed in a future version. Please adapt your code to use either `displot` (a figure-level function with similar flexibility) or `histplot` (an axes-level function for histograms).\n",
      "  warnings.warn(msg, FutureWarning)\n"
     ]
    },
    {
     "data": {
      "image/png": "[encoded data removed]",
      "text/plain": [
       "<Figure size 1440x324 with 4 Axes>"
      ]
     },
     "metadata": {
      "needs_background": "light",
      "tags": []
     },
     "output_type": "display_data"
    }
   ],
   "source": [
    "\"\"\"\n",
    "\n",
    "Excercise 2.3\n",
    "\n",
    "\"\"\"    \n",
    "####### NOTE ######\n",
    "#In the queation it asks to display density, but the example shows Residual Sugar. \n",
    "#I decided to display Density, as the ranges matched the density values\n",
    "import seaborn as sns  \n",
    "import matplotlib.pyplot as plt  # Oya-changed from matplotlib \n",
    "\n",
    "#Creating a figure\n",
    "figure = plt.figure(figsize=(20,4.5)) # Oya-updated with new fig sizes.\n",
    "\n",
    "#Adding 4 Subplots, with varying x axis limits\n",
    "#Density Graph 1\n",
    "ax1 = figure.add_subplot(141)\n",
    "ax1.set_title(\"pH\",fontsize=14)\n",
    "ax1.set_xlim(2.7 , 4)\n",
    "sns.distplot(df['pH'] , ax=ax1 , color='royalblue', hist_kws={\"histtype\": \"stepfilled\",\n",
    "                             \"color\": \"blue\"},kde_kws={\"color\": \"blue\",\"lw\": 2})\n",
    "\n",
    "plt.grid(False)\n",
    "sns.set_style(style='white')\n",
    "\n",
    "\n",
    "#Density Graph 2\n",
    "ax2 = figure.add_subplot(142)\n",
    "ax2.set_title('Density',fontsize=14)\n",
    "ax2.set_xlim(0.991 , 1.002)\n",
    "sns.distplot(df.density , ax=ax2 ,color='royalblue',hist_kws={\"histtype\": \"stepfilled\",\n",
    "                             \"color\": \"blue\"}, kde_kws={\"color\": \"blue\",\"lw\": 2})\n",
    "plt.grid(False)\n",
    "sns.set_style(style='white')\n",
    "\n",
    "#Density Graph 3\n",
    "ax3 = figure.add_subplot(143)\n",
    "ax3.set_title('Alcohol',fontsize=14)\n",
    "ax3.set_xlim(8.3 , 15)\n",
    "sns.distplot(df.alcohol , ax=ax3 ,color='royalblue',hist_kws={\"histtype\": \"stepfilled\",\n",
    "                             \"color\": \"blue\"},kde_kws={\"color\": \"blue\",\"lw\": 2})\n",
    "plt.grid(False)\n",
    "sns.set_style(style='white')\n",
    "\n",
    "#Density Graph 4\n",
    "ax4 = figure.add_subplot(144)\n",
    "ax4.set_title('Sulphates',fontsize=14)\n",
    "ax4.set_xlim(0.30 , 2)\n",
    "sns.distplot(df.sulphates , ax=ax4 ,color='royalblue',hist_kws={\"histtype\": \"stepfilled\",\n",
    "                             \"color\": \"blue\"},kde_kws={\"color\": \"blue\",\"lw\": 2})\n",
    "plt.grid(False)\n",
    "sns.set_style(style='white')\n",
    "\n"
   ]
  },
  {
   "cell_type": "markdown",
   "metadata": {
    "id": "JfVeLqDL-awP"
   },
   "source": [
    "### Exercise 2.4\n",
    "\n",
    "It is clear from the density plots that pH and Residual most closely resemble a normal distrubution. With this in mind identify the following  for pH and Residual Suger\n",
    "\n",
    "*   Mean\n",
    "*   Std Dev\n",
    "*   95th quantile\n",
    "*   70th quantile\n"
   ]
  },
  {
   "cell_type": "code",
   "execution_count": null,
   "metadata": {
    "colab": {
     "base_uri": "https://localhost:8080/"
    },
    "id": "clzx_0jw7dNU",
    "outputId": "4ee012df-f7fe-412f-9329-13d23ddcbcb1"
   },
   "outputs": [
    {
     "name": "stdout",
     "output_type": "stream",
     "text": [
      "pH_mean= 3.311113195747343\n",
      "pH_std= 0.15438646490354266\n",
      "pH_70th_quantile= 3.4\n",
      "pH_95th_quantile= 3.57\n",
      "residual_mean= 2.5388055034396517\n",
      "residual_std= 1.4099280595072805\n",
      "residual_70th_quantile= 2.5\n",
      "residual_96th_quantile= 5.1\n"
     ]
    }
   ],
   "source": [
    "\"\"\"\n",
    "\n",
    "Excercise 2.4\n",
    "\n",
    "\"\"\"    \n",
    "#pH Statistics\n",
    "ph_X   = df.pH.mean()\n",
    "pH_STD = df.pH.std()\n",
    "ph_70  = round(df.pH.quantile(0.7) , 1)\n",
    "ph_95  = df.pH.quantile(0.95)\n",
    "\n",
    "#Sugar Residual Statistics\n",
    "residual_X   = df.residual_sugar.mean()\n",
    "residual_STD = df.residual_sugar.std()\n",
    "residual_70  = round(df.residual_sugar.quantile(0.7) , 1)\n",
    "residual_95  = df.residual_sugar.quantile(0.95)\n",
    "\n",
    "\n",
    "print(\"pH_mean=\",ph_X)\n",
    "print(\"pH_std=\",pH_STD)\n",
    "print(\"pH_70th_quantile=\", ph_70)\n",
    "print(\"pH_95th_quantile=\",ph_95)\n",
    "\n",
    "print(\"residual_mean=\",residual_X)\n",
    "print(\"residual_std=\",residual_STD)\n",
    "print(\"residual_70th_quantile=\",residual_70)\n",
    "print(\"residual_96th_quantile=\",residual_95)\n"
   ]
  },
  {
   "cell_type": "code",
   "execution_count": null,
   "metadata": {
    "id": "39zJKGVE7nOV"
   },
   "outputs": [],
   "source": []
  },
  {
   "cell_type": "markdown",
   "metadata": {
    "id": "GAirq6m2Hvft"
   },
   "source": [
    "## AB Testing\n",
    "\n",
    "The following are results of a Brand Lift Study investigating Brand Awareness with a control and experiment group. The experiment group were exposed to an ad and the contol were not. The positive response column has binary values where 1 signifies that person is awareness of the brand in question and 0 signifies that person is not. "
   ]
  },
  {
   "cell_type": "code",
   "execution_count": null,
   "metadata": {
    "colab": {
     "base_uri": "https://localhost:8080/",
     "height": 204
    },
    "id": "fCxU1BYPIijk",
    "outputId": "f80bc356-ad9e-4b46-a2f1-b419264fa133"
   },
   "outputs": [
    {
     "data": {
      "text/html": [
       "<div>\n",
       "<style scoped>\n",
       "    .dataframe tbody tr th:only-of-type {\n",
       "        vertical-align: middle;\n",
       "    }\n",
       "\n",
       "    .dataframe tbody tr th {\n",
       "        vertical-align: top;\n",
       "    }\n",
       "\n",
       "    .dataframe thead th {\n",
       "        text-align: right;\n",
       "    }\n",
       "</style>\n",
       "<table border=\"1\" class=\"dataframe\">\n",
       "  <thead>\n",
       "    <tr style=\"text-align: right;\">\n",
       "      <th></th>\n",
       "      <th>group</th>\n",
       "      <th>Positive Response</th>\n",
       "    </tr>\n",
       "  </thead>\n",
       "  <tbody>\n",
       "    <tr>\n",
       "      <th>0</th>\n",
       "      <td>Control</td>\n",
       "      <td>0</td>\n",
       "    </tr>\n",
       "    <tr>\n",
       "      <th>1</th>\n",
       "      <td>Control</td>\n",
       "      <td>0</td>\n",
       "    </tr>\n",
       "    <tr>\n",
       "      <th>2</th>\n",
       "      <td>Control</td>\n",
       "      <td>1</td>\n",
       "    </tr>\n",
       "    <tr>\n",
       "      <th>3</th>\n",
       "      <td>Control</td>\n",
       "      <td>0</td>\n",
       "    </tr>\n",
       "    <tr>\n",
       "      <th>4</th>\n",
       "      <td>Control</td>\n",
       "      <td>0</td>\n",
       "    </tr>\n",
       "  </tbody>\n",
       "</table>\n",
       "</div>"
      ],
      "text/plain": [
       "     group  Positive Response\n",
       "0  Control                  0\n",
       "1  Control                  0\n",
       "2  Control                  1\n",
       "3  Control                  0\n",
       "4  Control                  0"
      ]
     },
     "execution_count": 27,
     "metadata": {
      "tags": []
     },
     "output_type": "execute_result"
    }
   ],
   "source": [
    "import pandas as pd\n",
    "import numpy as np\n",
    "import seaborn as sns\n",
    "import matplotlib.pyplot as plt\n",
    "\n",
    "file_name = \"https://raw.githubusercontent.com/ksynnott/VM-DS-Data/master/BrandLiftStudy.csv\"\n",
    "df_BLS = pd.read_csv(file_name)\n",
    "df_BLS.head()\n"
   ]
  },
  {
   "cell_type": "code",
   "execution_count": null,
   "metadata": {
    "colab": {
     "base_uri": "https://localhost:8080/"
    },
    "id": "G2FFDvhe9XqO",
    "outputId": "7f11675a-8f1f-4da7-a3c6-9d7397ab4b50"
   },
   "outputs": [
    {
     "data": {
      "text/plain": [
       "Positive Response  group       \n",
       "0                  Control         221\n",
       "                   Experimental    208\n",
       "1                  Experimental     42\n",
       "                   Control          29\n",
       "Name: group, dtype: int64"
      ]
     },
     "execution_count": 28,
     "metadata": {
      "tags": []
     },
     "output_type": "execute_result"
    }
   ],
   "source": [
    "df_BLS['group'].groupby(df_BLS['Positive Response']).value_counts()\n"
   ]
  },
  {
   "cell_type": "code",
   "execution_count": null,
   "metadata": {
    "colab": {
     "base_uri": "https://localhost:8080/"
    },
    "id": "_p_B4-YW-BhI",
    "outputId": "e8b2b642-db3d-462c-b9c4-a66db16fc7e5"
   },
   "outputs": [
    {
     "data": {
      "text/plain": [
       "Experimental    250\n",
       "Control         250\n",
       "Name: group, dtype: int64"
      ]
     },
     "execution_count": 29,
     "metadata": {
      "tags": []
     },
     "output_type": "execute_result"
    }
   ],
   "source": [
    "df_BLS['group'].value_counts()"
   ]
  },
  {
   "cell_type": "markdown",
   "metadata": {
    "id": "WtFY5qGBI3Bp"
   },
   "source": [
    "### Exercise 3.1\n",
    "\n",
    "Calculate the probability of a positive response for both the control and experiment group"
   ]
  },
  {
   "cell_type": "code",
   "execution_count": null,
   "metadata": {
    "colab": {
     "base_uri": "https://localhost:8080/"
    },
    "id": "ry-oOCmpI88m",
    "outputId": "e10fb2b0-706d-4828-942c-900a8085acd8"
   },
   "outputs": [
    {
     "name": "stdout",
     "output_type": "stream",
     "text": [
      "Control Mean = 0.116\n",
      "Experimental Mean = 0.168\n"
     ]
    }
   ],
   "source": [
    "# Show mean duration of Control and Experimental groups\n",
    "\"\"\"\n",
    "\n",
    "Excercise 3.1\n",
    "\n",
    "\"\"\"\n",
    "#P(A) = n(A)/n(S)\n",
    "# Finding Populayion size for each group coniditon\n",
    "control_pop = len(df_BLS.loc[df_BLS['group'] == \"Control\" ])   #250\n",
    "exper_pop   = len(df_BLS) - control_pop                        #250\n",
    "\n",
    "#Finding the numer of positive responses in each group\n",
    "control_n = len(df_BLS.loc[(df_BLS['group'] == \"Control\")      & (df_BLS['Positive Response'] == 1)])    #29\n",
    "exper_n   = len(df_BLS.loc[(df_BLS['group'] == \"Experimental\") & (df_BLS['Positive Response'] == 1)])    #42\n",
    "\n",
    "# Double Checking if the number of positive responses are correct\n",
    "df_BLS.groupby(['group']).sum()\n",
    "\n",
    "#Calculating Probability\n",
    "control_prob =  control_n/control_pop                 #0.116\n",
    "experiment_prob = exper_n/exper_pop                   #0.168\n",
    "\n",
    "\n",
    "print(\"Control Mean = \" +str(control_prob))\n",
    "print(\"Experimental Mean = \" + str(experiment_prob))\n",
    "\n"
   ]
  },
  {
   "cell_type": "code",
   "execution_count": null,
   "metadata": {
    "colab": {
     "base_uri": "https://localhost:8080/"
    },
    "id": "FdU-WyFlBTQv",
    "outputId": "a22ac4c6-0e64-46c6-fbae-65a4a37aa3ce"
   },
   "outputs": [
    {
     "name": "stdout",
     "output_type": "stream",
     "text": [
      "Positive Response  group       \n",
      "0                  Control         0.884\n",
      "                   Experimental    0.832\n",
      "1                  Control         0.116\n",
      "                   Experimental    0.168\n",
      "dtype: float64\n"
     ]
    }
   ],
   "source": [
    "# Show mean duration of Control and Experimental groups\n",
    "\"\"\"\n",
    "\n",
    "Excercise 3.1\n",
    "\n",
    "\"\"\"\n",
    "#DIFFERENT WAY OF CALCULATING PROBABILITY FOR EACH GROUP BY RESPONSE TO HAVE A QUICK VIEW\n",
    "rating_probs = df_BLS.groupby('group').size().div(len(df_BLS))\n",
    "probability= df_BLS.groupby(['Positive Response', 'group']).size().div(len(df_BLS)).div(rating_probs, axis=0, level='group')\n",
    "print(probability)"
   ]
  },
  {
   "cell_type": "markdown",
   "metadata": {
    "id": "bNtfAIWjJXkH"
   },
   "source": [
    "### Exercise 3.2\n",
    "\n",
    "Calculate the Pool Probability of this brand lift study and the Pool Standerd Error\n",
    "\n"
   ]
  },
  {
   "cell_type": "code",
   "execution_count": null,
   "metadata": {
    "colab": {
     "base_uri": "https://localhost:8080/"
    },
    "id": "KapkIE2akTxC",
    "outputId": "d8f9bbaf-7def-4ffb-82a1-621200801795"
   },
   "outputs": [
    {
     "name": "stdout",
     "output_type": "stream",
     "text": [
      "Pooled Probability =  0.142\n",
      "Pooled_Std =  0.031219993593849436\n"
     ]
    }
   ],
   "source": [
    "\"\"\"\n",
    "\n",
    "Excercise 3.2\n",
    "\n",
    "\"\"\"\n",
    "#refrence : https://rstudio-pubs-static.s3.amazonaws.com/201749_9fc280333a5c4f448687e1d99b9bdf76.html\n",
    "\n",
    "#Calculating the Pool Proability\n",
    "prob_pooled = (control_n + exper_n) / (control_pop + exper_pop)\n",
    "print(\"Pooled Probability = \",prob_pooled )\n",
    "\n",
    "#Calculate pooled standard error \n",
    "import math as math\n",
    "se_pool = math.sqrt(pool_prob*(1-pool_prob)*(1/control_pop + 1/exper_pop))   \n",
    "print(\"Pooled_Std = \",se_pool)\n"
   ]
  },
  {
   "cell_type": "markdown",
   "metadata": {
    "id": "MwVXV5yBp5WJ"
   },
   "source": [
    "### Exercise 3.3\n",
    "\n",
    "The Null hypothesis is that there is no difference between the control and experimental group i.e `control_prob - experiment_prob = 0`.\n",
    "\n",
    "With that in mind and after calculating the Pool Probability and Pool Standerd Error would you reject the null hypothesis?"
   ]
  },
  {
   "cell_type": "code",
   "execution_count": null,
   "metadata": {
    "colab": {
     "base_uri": "https://localhost:8080/"
    },
    "id": "HbZtNQw8qqNg",
    "outputId": "7eab5c9f-7901-4d46-a709-171789c916db"
   },
   "outputs": [
    {
     "name": "stdout",
     "output_type": "stream",
     "text": [
      "marginal_error =  0.061191187443944896\n",
      "diff= -0.052000000000000005\n",
      "lower_bound= -0.11319118744394491\n",
      "Do not reject the null hypothesis\n",
      "The lower bound of the confidence interval is  -11.32 %\n",
      "The upper bound of the confidence interval is  0.92 %\n"
     ]
    }
   ],
   "source": [
    "\"\"\"\n",
    "\n",
    "Excercise 3.3\n",
    "\n",
    "\"\"\"\n",
    "#H0 = control_prob - experiment_prob  = 0   : the difference between the control and experiment is due to chance\n",
    "#H1 = control_prob - experiment_prob !=     : the difference represents a statistically significant difference\n",
    "\n",
    "# Calculating d = hypothesized difference between probability of positive response in the experiment and control groups\n",
    "d = control_prob -experiment_prob\n",
    "\n",
    "#Calculate margin of error\n",
    "#For a 95% confidence interval, z_score = 1.96.\n",
    "practical_significance = 0.01 #user defined\n",
    "\n",
    "m = 1.96*se_pool \n",
    "print(\"marginal_error = \",m)\n",
    "print(\"diff=\", d)\n",
    "\n",
    "#Test if we can reject the null hypothesis\n",
    "lower_bound = d - m\n",
    "upper_bound = d + m\n",
    "print(\"lower_bound=\",lower_bound)\n",
    "\n",
    "practical_significance = 0.01 #user defined\n",
    "\n",
    "if practical_significance < lower_bound:\n",
    "    \n",
    "    print(\"Reject null hypothesis\")\n",
    "else: \n",
    "    print(\"Do not reject the null hypothesis\")\n",
    "\n",
    "print(\"The lower bound of the confidence interval is \", round(lower_bound * 100, 2), \"%\")\n",
    "print(\"The upper bound of the confidence interval is \", round(upper_bound * 100, 2), \"%\")\n"
   ]
  },
  {
   "cell_type": "markdown",
   "metadata": {
    "id": "umFyWup4qyIt"
   },
   "source": [
    "In this example the confidence interval is between -0.11.3% and 0.92%. Given the minimum level defined in the practical significance level is 1%, we could only reject the null hypothesis if the confidence interval lower bound was above 1%. Therefore we cannot reject the null hypothesis and conclude which difference between the control and experiment is due to chance. We need to increase sample size and test it again\n",
    "\n"
   ]
  },
  {
   "cell_type": "markdown",
   "metadata": {
    "id": "NdL4awRCA-l9"
   },
   "source": [
    "## Sklearn\n",
    "\n",
    "This is an exercise to demonstrate your familiarity of sklearn, in particular \n",
    "SVMs, Random Forests and KNN Classifiers. "
   ]
  },
  {
   "cell_type": "code",
   "execution_count": null,
   "metadata": {
    "colab": {
     "base_uri": "https://localhost:8080/",
     "height": 285
    },
    "id": "q06RyROLBAnc",
    "outputId": "e456e483-bbbb-4068-9a37-3f60b337f99f"
   },
   "outputs": [
    {
     "data": {
      "image/png": "[encoded data removed]",
      "text/plain": [
       "<Figure size 432x288 with 1 Axes>"
      ]
     },
     "metadata": {
      "tags": []
     },
     "output_type": "display_data"
    }
   ],
   "source": [
    "import numpy as np\n",
    "import pandas as pd\n",
    "import seaborn as sns; sns.set()\n",
    "import matplotlib.pyplot as plt\n",
    "\n",
    "\n",
    "# Helpful for later\n",
    "# Import our model and performance assessement classes from sklearn\n",
    "\n",
    "from sklearn.linear_model import LogisticRegression\n",
    "from sklearn.ensemble import RandomForestClassifier\n",
    "from sklearn.svm import SVC\n",
    "from sklearn.neighbors import KNeighborsClassifier\n",
    "\n",
    "from sklearn.metrics import classification_report\n",
    "from sklearn.metrics import confusion_matrix\n",
    "from sklearn.metrics import accuracy_score\n",
    "\n",
    "# Load data\n",
    "file_name = \"https://raw.githubusercontent.com/ksynnott/VM-DS-Data/master/heights_weights.csv\"\n",
    "df_sk = pd.read_csv(file_name)\n",
    "\n",
    "\n",
    "ax = sns.scatterplot(x=\"Height\", y=\"Weight\", hue=\"Male\", data=df_sk)"
   ]
  },
  {
   "cell_type": "code",
   "execution_count": null,
   "metadata": {
    "colab": {
     "base_uri": "https://localhost:8080/"
    },
    "id": "Hlk_VjCNLl97",
    "outputId": "fcd01cbc-88df-44b9-982b-f74883435764"
   },
   "outputs": [
    {
     "data": {
      "text/plain": [
       "Height    0\n",
       "Weight    0\n",
       "Male      0\n",
       "dtype: int64"
      ]
     },
     "execution_count": 46,
     "metadata": {
      "tags": []
     },
     "output_type": "execute_result"
    }
   ],
   "source": [
    "#checking missing values before starting\n",
    "df_sk.isna().sum()"
   ]
  },
  {
   "cell_type": "markdown",
   "metadata": {
    "id": "KWjV-FVXC6kD"
   },
   "source": [
    "### Exercise 4.1\n",
    "\n",
    "Extract the data from the Data Frame so it is prepared for sklearn. \n",
    "\n",
    "Use Sklearns *train_test_split* to create a training (70% of data) and test set (30% of data)"
   ]
  },
  {
   "cell_type": "code",
   "execution_count": null,
   "metadata": {
    "colab": {
     "base_uri": "https://localhost:8080/",
     "height": 204
    },
    "id": "LfJy3RP3L5et",
    "outputId": "c2e1a402-1092-48e0-ed91-0ceb70cdf268"
   },
   "outputs": [
    {
     "data": {
      "text/html": [
       "<div>\n",
       "<style scoped>\n",
       "    .dataframe tbody tr th:only-of-type {\n",
       "        vertical-align: middle;\n",
       "    }\n",
       "\n",
       "    .dataframe tbody tr th {\n",
       "        vertical-align: top;\n",
       "    }\n",
       "\n",
       "    .dataframe thead th {\n",
       "        text-align: right;\n",
       "    }\n",
       "</style>\n",
       "<table border=\"1\" class=\"dataframe\">\n",
       "  <thead>\n",
       "    <tr style=\"text-align: right;\">\n",
       "      <th></th>\n",
       "      <th>Height</th>\n",
       "      <th>Weight</th>\n",
       "      <th>Male</th>\n",
       "    </tr>\n",
       "  </thead>\n",
       "  <tbody>\n",
       "    <tr>\n",
       "      <th>0</th>\n",
       "      <td>73.847017</td>\n",
       "      <td>241.893563</td>\n",
       "      <td>1</td>\n",
       "    </tr>\n",
       "    <tr>\n",
       "      <th>1</th>\n",
       "      <td>68.781904</td>\n",
       "      <td>162.310473</td>\n",
       "      <td>1</td>\n",
       "    </tr>\n",
       "    <tr>\n",
       "      <th>2</th>\n",
       "      <td>74.110105</td>\n",
       "      <td>212.740856</td>\n",
       "      <td>1</td>\n",
       "    </tr>\n",
       "    <tr>\n",
       "      <th>3</th>\n",
       "      <td>71.730978</td>\n",
       "      <td>220.042470</td>\n",
       "      <td>1</td>\n",
       "    </tr>\n",
       "    <tr>\n",
       "      <th>4</th>\n",
       "      <td>69.881796</td>\n",
       "      <td>206.349801</td>\n",
       "      <td>1</td>\n",
       "    </tr>\n",
       "  </tbody>\n",
       "</table>\n",
       "</div>"
      ],
      "text/plain": [
       "      Height      Weight  Male\n",
       "0  73.847017  241.893563     1\n",
       "1  68.781904  162.310473     1\n",
       "2  74.110105  212.740856     1\n",
       "3  71.730978  220.042470     1\n",
       "4  69.881796  206.349801     1"
      ]
     },
     "execution_count": 47,
     "metadata": {
      "tags": []
     },
     "output_type": "execute_result"
    }
   ],
   "source": [
    "df_sk.head()"
   ]
  },
  {
   "cell_type": "code",
   "execution_count": null,
   "metadata": {
    "colab": {
     "base_uri": "https://localhost:8080/"
    },
    "id": "SJmvPfZrMCjT",
    "outputId": "02d09244-6cc1-438d-acdd-810e7f8a915a"
   },
   "outputs": [
    {
     "name": "stdout",
     "output_type": "stream",
     "text": [
      "      Height      Weight\n",
      "0  73.847017  241.893563\n",
      "1  68.781904  162.310473\n",
      "2  74.110105  212.740856\n",
      "3  71.730978  220.042470\n",
      "4  69.881796  206.349801\n"
     ]
    }
   ],
   "source": [
    "#predicting Male or Female based on their height and weight\n",
    "#two classes -Male or Not Male\n",
    "y=df_sk.Male\n",
    "X=df_sk.drop('Male',axis=1)\n",
    "print(X.head())"
   ]
  },
  {
   "cell_type": "code",
   "execution_count": null,
   "metadata": {
    "colab": {
     "base_uri": "https://localhost:8080/"
    },
    "id": "Wi0PFbSvMQWV",
    "outputId": "76d01026-d070-421a-9520-922f52b7c608"
   },
   "outputs": [
    {
     "data": {
      "text/plain": [
       "1    5000\n",
       "0    5000\n",
       "Name: Male, dtype: int64"
      ]
     },
     "execution_count": 50,
     "metadata": {
      "tags": []
     },
     "output_type": "execute_result"
    }
   ],
   "source": [
    "# checking if values for both class is on balance between the two classes\n",
    "pd.value_counts(pd.Series(y))"
   ]
  },
  {
   "cell_type": "code",
   "execution_count": null,
   "metadata": {
    "id": "wkZfhiEnMkQT"
   },
   "outputs": [],
   "source": []
  },
  {
   "cell_type": "code",
   "execution_count": null,
   "metadata": {
    "id": "Yu44HMYaCTuA"
   },
   "outputs": [],
   "source": [
    "\"\"\"\n",
    "\n",
    "Excercise 4.1\n",
    "\n",
    "\"\"\"\n",
    "\n",
    "from sklearn.model_selection import train_test_split\n",
    "#Splitting so the test set split is 30%\n",
    "from sklearn.model_selection import train_test_split\n",
    "\n",
    "#Use Sklearns train_test_split to create a training (70% of data) and test set (30% of data)\n",
    "X_train, X_test, y_train, y_test = train_test_split(X, y, test_size=0.3, random_state=0)"
   ]
  },
  {
   "cell_type": "markdown",
   "metadata": {
    "id": "PlMyafVXEecp"
   },
   "source": [
    "### Exercise 4.2\n",
    "\n",
    "Fit and Train a Logistic Regression classifier \n",
    "\n",
    "Use the test set to predict \n",
    "\n",
    "Evaluate using accurcy. \n",
    "\n",
    "Also use sklearns confusion matric and classification_report"
   ]
  },
  {
   "cell_type": "code",
   "execution_count": null,
   "metadata": {
    "colab": {
     "base_uri": "https://localhost:8080/"
    },
    "id": "_xzfyiJWDDoF",
    "outputId": "d223a64d-6236-4412-e7ad-8a2e5d9c3a16"
   },
   "outputs": [
    {
     "name": "stdout",
     "output_type": "stream",
     "text": [
      "Accuracy of logistic regression classifier on test set: 0.92\n",
      "Confusion matrix:\n",
      " [[1385  104]\n",
      " [ 140 1371]]\n",
      "              precision    recall  f1-score   support\n",
      "\n",
      "           0       0.91      0.93      0.92      1489\n",
      "           1       0.93      0.91      0.92      1511\n",
      "\n",
      "    accuracy                           0.92      3000\n",
      "   macro avg       0.92      0.92      0.92      3000\n",
      "weighted avg       0.92      0.92      0.92      3000\n",
      "\n"
     ]
    }
   ],
   "source": [
    "\"\"\"\n",
    "\n",
    "Excercise 4.2\n",
    "\n",
    "\"\"\"\n",
    "# Fit (train) the Logistic Regression classifier\n",
    " \n",
    "# what is X and y and how to get the values\n",
    "# The classification model attempts to predict the output value when given several input variables, placing the example into the correct category.\n",
    "# Logistic regression is basically a supervised classification algorithm. In a classification problem, the target variable(or output), y, can take only discrete values for given set of features(or inputs), X. Contrary to popular belief, logistic regression IS a regression model.\n",
    " \n",
    "#Logistic Regression model fitting\n",
    "from sklearn.linear_model import LogisticRegression\n",
    "from sklearn import metrics\n",
    "X_train, X_test, y_train, y_test = train_test_split(X, y, test_size=0.3, random_state=0)\n",
    "\n",
    "logreg = LogisticRegression()\n",
    "logreg.fit(X_train, y_train)\n",
    " \n",
    "#Predicting the test set results and calculating the accuracy\n",
    "predicted = logreg.predict(X_test)\n",
    "print('Accuracy of logistic regression classifier on test set: {:.2f}'.format(logreg.score(X_test, y_test)))\n",
    "\n",
    "#Confusion Matrix\n",
    "from sklearn.metrics import confusion_matrix\n",
    "confusion_matrix = confusion_matrix(y_test, predicted)\n",
    "print('Confusion matrix:\\n',confusion_matrix)\n",
    "\n",
    " \n",
    "#Classification Report\n",
    "from sklearn.metrics import classification_report\n",
    "print(classification_report(y_test, predicted))\n",
    "\n"
   ]
  },
  {
   "cell_type": "code",
   "execution_count": null,
   "metadata": {
    "colab": {
     "base_uri": "https://localhost:8080/",
     "height": 415
    },
    "id": "nPBQH5zzN6gS",
    "outputId": "1bd84573-0639-486a-e30b-e1edda885366"
   },
   "outputs": [
    {
     "data": {
      "image/png": "[encoded data removed]",
      "text/plain": [
       "<Figure size 720x432 with 1 Axes>"
      ]
     },
     "metadata": {
      "tags": []
     },
     "output_type": "display_data"
    }
   ],
   "source": [
    "# Plot the ROC Curve\n",
    "from sklearn.metrics import roc_curve, auc, roc_auc_score\n",
    "rf_probs = logreg.predict_proba(X_test) # Predict class probabilities of the input samples \n",
    "rf_preds = rf_probs[:,1]\n",
    " \n",
    "# Compute ROC curve and ROC area for each class\n",
    "fpr,tpr,threshold = roc_curve(y_test, rf_preds) \n",
    "roc_auc = auc(fpr,tpr) \n",
    "\n",
    "plt.figure(figsize=(10,6))\n",
    "plt.plot(fpr, tpr, lw=2, label='AUC = %0.3f' % roc_auc) \n",
    "plt.plot([0, 1], [0, 1], lw=2, linestyle='--')\n",
    "plt.xlim([0.0, 1.0])\n",
    "plt.ylim([0.0, 1.05])\n",
    "plt.xlabel('False Positive Rate')\n",
    "plt.ylabel('True Positive Rate')\n",
    "plt.title('LogisticRegression ROC Curve',fontsize=20)\n",
    "plt.legend(loc=\"lower right\")\n",
    "plt.show()"
   ]
  },
  {
   "cell_type": "markdown",
   "metadata": {
    "id": "b90Yf8mmGFnD"
   },
   "source": [
    "### Exercise 4.3\n",
    "Fit and Train a Random Forest classifier\n",
    "\n",
    "Use the test set to predict\n",
    "\n",
    "Evaluate using accurcy.\n",
    "\n",
    "Also use sklearns confusion matric and classification_report"
   ]
  },
  {
   "cell_type": "code",
   "execution_count": null,
   "metadata": {
    "colab": {
     "base_uri": "https://localhost:8080/"
    },
    "id": "myMGKG9cGJxa",
    "outputId": "419428ed-fb65-42a7-c4c7-fee629b03ca8"
   },
   "outputs": [
    {
     "data": {
      "text/plain": [
       "RandomForestClassifier(bootstrap=True, ccp_alpha=0.0, class_weight=None,\n",
       "                       criterion='gini', max_depth=None, max_features='auto',\n",
       "                       max_leaf_nodes=None, max_samples=None,\n",
       "                       min_impurity_decrease=0.0, min_impurity_split=None,\n",
       "                       min_samples_leaf=1, min_samples_split=2,\n",
       "                       min_weight_fraction_leaf=0.0, n_estimators=100,\n",
       "                       n_jobs=None, oob_score=False, random_state=None,\n",
       "                       verbose=0, warm_start=False)"
      ]
     },
     "execution_count": 59,
     "metadata": {
      "tags": []
     },
     "output_type": "execute_result"
    }
   ],
   "source": [
    "\"\"\"\n",
    "\n",
    "Excercise 4.3\n",
    "\n",
    "\"\"\"\n",
    "from sklearn.ensemble import RandomForestClassifier\n",
    "from sklearn.metrics import classification_report, confusion_matrix, accuracy_score\n",
    "from sklearn import metrics\n",
    "#split dateset\n",
    "X_train, X_test, y_train, y_test = train_test_split(X, y, test_size=0.3, random_state=0)\n",
    "\n",
    "#Random forest, like its name implies, consists of a large number of individual decision trees that operate as an ensemble. Each individual tree in the random forest spits out a class prediction and the class with the most votes becomes our model’s prediction\n",
    "Random_model = RandomForestClassifier()\n",
    "# Fit (train) the Random Forest classifier\n",
    "Random_model.fit(X_train, y_train)\n",
    "\n"
   ]
  },
  {
   "cell_type": "code",
   "execution_count": null,
   "metadata": {
    "colab": {
     "base_uri": "https://localhost:8080/"
    },
    "id": "a6xfxdEVPZTG",
    "outputId": "23e28f3d-b11a-4c63-c4f1-a9e840890b34"
   },
   "outputs": [
    {
     "name": "stdout",
     "output_type": "stream",
     "text": [
      "Accuracy of RandomForest classifier on test set: 0.90\n",
      "[[1376  113]\n",
      " [ 175 1336]]\n",
      "              precision    recall  f1-score   support\n",
      "\n",
      "           0       0.89      0.92      0.91      1489\n",
      "           1       0.92      0.88      0.90      1511\n",
      "\n",
      "    accuracy                           0.90      3000\n",
      "   macro avg       0.90      0.90      0.90      3000\n",
      "weighted avg       0.90      0.90      0.90      3000\n",
      "\n"
     ]
    }
   ],
   "source": [
    "y_pred1 = Random_model.predict(X_test)\n",
    "print('Accuracy of RandomForest classifier on test set: {:.2f}'.format(Random_model.score(X_test, y_test)))\n",
    "\n",
    "# Display the Confusion Matrix and Classification Report\n",
    "\n",
    "#Confusion Matrix\n",
    "from sklearn.metrics import confusion_matrix\n",
    "confusion_matrix = confusion_matrix(y_test, y_pred1)\n",
    "print(confusion_matrix)\n",
    "\n",
    " \n",
    "#Classification Report\n",
    "from sklearn.metrics import classification_report\n",
    "print(classification_report(y_test, y_pred1))"
   ]
  },
  {
   "cell_type": "code",
   "execution_count": null,
   "metadata": {
    "colab": {
     "base_uri": "https://localhost:8080/",
     "height": 415
    },
    "id": "N_lv6IQcPzlO",
    "outputId": "c876cddd-0f6b-47c8-b850-c8d5594a8f7a"
   },
   "outputs": [
    {
     "data": {
      "image/png": "[encoded data removed]",
      "text/plain": [
       "<Figure size 720x432 with 1 Axes>"
      ]
     },
     "metadata": {
      "tags": []
     },
     "output_type": "display_data"
    }
   ],
   "source": [
    "# Plot the ROC Curve\n",
    "from sklearn.metrics import roc_curve, auc, roc_auc_score\n",
    "rf_probs = Random_model.predict_proba(X_test) # Predict class probabilities of the input samples \n",
    "rf_preds = rf_probs[:,1]\n",
    " \n",
    "# Compute ROC curve and ROC area for each class\n",
    "fpr,tpr,threshold = roc_curve(y_test, rf_preds) \n",
    "roc_auc = auc(fpr,tpr) \n",
    "\n",
    "plt.figure(figsize=(10,6))\n",
    "plt.plot(fpr, tpr, lw=2, label='AUC = %0.3f' % roc_auc)\n",
    "plt.plot([0, 1], [0, 1], lw=2, linestyle='--')\n",
    "plt.xlim([0.0, 1.0])\n",
    "plt.ylim([0.0, 1.05])\n",
    "plt.xlabel('False Positive Rate')\n",
    "plt.ylabel('True Positive Rate')\n",
    "plt.title('Random Forest ROC Curve',fontsize=20)\n",
    "plt.legend(loc=\"lower right\")\n",
    "plt.show()"
   ]
  },
  {
   "cell_type": "code",
   "execution_count": null,
   "metadata": {
    "colab": {
     "base_uri": "https://localhost:8080/",
     "height": 417
    },
    "id": "Nd71WQL4P3Fn",
    "outputId": "dfaedf4c-1dcf-473c-8942-53cbe18b578c"
   },
   "outputs": [
    {
     "data": {
      "image/png": "[encoded data removed]",
      "text/plain": [
       "<Figure size 720x432 with 1 Axes>"
      ]
     },
     "metadata": {
      "tags": []
     },
     "output_type": "display_data"
    }
   ],
   "source": [
    "# Plot the precision recall curve\n",
    "from sklearn.metrics import precision_recall_curve\n",
    "precisions, recalls, thresholds = precision_recall_curve(y_test, rf_preds)\n",
    "\n",
    "def plot_precision_recall_vs_threshold(precisions, recalls, thresholds):\n",
    "    plt.plot(thresholds, precisions[:-1], \"b--\", label=\"Precision\", linewidth=2)\n",
    "    plt.plot(thresholds, recalls[:-1], \"g-\", label=\"Recall\", linewidth=2)\n",
    "    plt.xlabel(\"Threshold\", fontsize=16)\n",
    "    plt.legend(loc=\"lower left\", fontsize=16)\n",
    "    plt.ylim([0, 1.1])\n",
    "    \n",
    "plt.figure(figsize=(10,6))\n",
    "plt.title('RandomForest Precision Recall Curve',fontsize=20)\n",
    "plot_precision_recall_vs_threshold(precisions, recalls, thresholds)\n",
    "plt.xlim([0, 1])\n",
    "plt.show()"
   ]
  },
  {
   "cell_type": "markdown",
   "metadata": {
    "id": "K0HY0zkgGTLV"
   },
   "source": [
    "### Exercise 4.4\n",
    "Fit and Train a Support Vector Machine classifier\n",
    "\n",
    "Use the test set to predict\n",
    "\n",
    "Evaluate using accurcy.\n",
    "\n",
    "Also use sklearns confusion matric and classification_report"
   ]
  },
  {
   "cell_type": "code",
   "execution_count": null,
   "metadata": {
    "colab": {
     "base_uri": "https://localhost:8080/"
    },
    "id": "n4JyAQrIGXpK",
    "outputId": "9ee05b10-7678-4c15-d50d-0315b83043f9"
   },
   "outputs": [
    {
     "name": "stdout",
     "output_type": "stream",
     "text": [
      "Accuracy of logistic regression classifier on test set: 0.92\n",
      "[[1383  106]\n",
      " [ 136 1375]]\n",
      "              precision    recall  f1-score   support\n",
      "\n",
      "           0       0.91      0.93      0.92      1489\n",
      "           1       0.93      0.91      0.92      1511\n",
      "\n",
      "    accuracy                           0.92      3000\n",
      "   macro avg       0.92      0.92      0.92      3000\n",
      "weighted avg       0.92      0.92      0.92      3000\n",
      "\n"
     ]
    }
   ],
   "source": [
    "from sklearn.svm import SVC\n",
    "X_train, X_test, y_train, y_test = train_test_split(X, y, test_size=0.3, random_state=0)\n",
    "\n",
    "# Fit (train) the Support Vector Machine classifier\n",
    "svc = SVC(kernel='linear').fit(X_train,y_train)\n",
    "svc\n",
    "\n",
    "y_pred2 = svc.predict(X_test)\n",
    "print('Accuracy of logistic regression classifier on test set: {:.2f}'.format(svc.score(X_test, y_test)))\n",
    "\n",
    "# Display the Confusion Matrix and Classification Report\n",
    "\n",
    "#Confusion Matrix\n",
    "from sklearn.metrics import confusion_matrix\n",
    "confusion_matrix = confusion_matrix(y_test, y_pred2)\n",
    "print(confusion_matrix)\n",
    "\n",
    "#Classification Report\n",
    "from sklearn.metrics import classification_report\n",
    "print(classification_report(y_test, y_pred2))\n"
   ]
  },
  {
   "cell_type": "code",
   "execution_count": null,
   "metadata": {
    "id": "6TQX4W_MR1CU"
   },
   "outputs": [],
   "source": []
  },
  {
   "cell_type": "markdown",
   "metadata": {
    "id": "lmA8sdVcGmuq"
   },
   "source": [
    "### Exercise 4.5\n",
    "Fit and Train a K-Nearest Neighbour classifier\n",
    "\n",
    "Use the test set to predict\n",
    "\n",
    "Evaluate using accurcy.\n",
    "\n",
    "Also use sklearns confusion matric and classification_report"
   ]
  },
  {
   "cell_type": "code",
   "execution_count": null,
   "metadata": {
    "id": "qxlwiME-Gacd"
   },
   "outputs": [],
   "source": [
    "# Fit (train) the KNN classifier\n",
    "from sklearn.preprocessing import MinMaxScaler\n",
    "from sklearn.cluster import KMeans\n",
    "from sklearn.neighbors import KNeighborsClassifier\n",
    "from sklearn.metrics import accuracy_score\n",
    "from sklearn.preprocessing import StandardScaler\n",
    "\n",
    "X_train1, X_test1, y_train, y_test = train_test_split(X, y, test_size=0.3, random_state=0)\n",
    "\n",
    "\n",
    "scaler = MinMaxScaler(feature_range=(0, 1))\n",
    "\n",
    "x_train_scaled = scaler.fit_transform(X_train1)\n",
    "x_train = pd.DataFrame(x_train_scaled)\n",
    "\n",
    "x_test_scaled = scaler.fit_transform(X_test1)\n",
    "x_test = pd.DataFrame(x_test_scaled)\n",
    "\n",
    "\n"
   ]
  },
  {
   "cell_type": "code",
   "execution_count": null,
   "metadata": {
    "id": "gBR04k_DSVwm"
   },
   "outputs": [],
   "source": [
    "from sklearn.neighbors import KNeighborsClassifier\n",
    "\n",
    "#Create KNN Classifier\n",
    "knn = KNeighborsClassifier(n_neighbors=4)\n",
    "\n",
    "#Train the model using the training sets\n",
    "knn.fit(x_train, y_train)\n",
    "\n",
    "#Predict the response for test dataset\n",
    "y_pred = knn.predict(x_test)"
   ]
  },
  {
   "cell_type": "code",
   "execution_count": null,
   "metadata": {
    "colab": {
     "base_uri": "https://localhost:8080/"
    },
    "id": "nNljLnvISdKO",
    "outputId": "4e1c8f7d-e21d-4d7d-dfc0-3a176102af44"
   },
   "outputs": [
    {
     "name": "stdout",
     "output_type": "stream",
     "text": [
      "Accuracy: 0.8976666666666666\n"
     ]
    }
   ],
   "source": [
    "#Import scikit-learn metrics module for accuracy calculation\n",
    "from sklearn import metrics\n",
    "# Model Accuracy, how often is the classifier correct?\n",
    "print(\"Accuracy:\",metrics.accuracy_score(y_test, y_pred))"
   ]
  },
  {
   "cell_type": "code",
   "execution_count": null,
   "metadata": {
    "colab": {
     "base_uri": "https://localhost:8080/"
    },
    "id": "S1HuZeZSShm7",
    "outputId": "dd91146d-e17b-43b3-b07e-7c7bf176bf79"
   },
   "outputs": [
    {
     "name": "stdout",
     "output_type": "stream",
     "text": [
      "[[1279  210]\n",
      " [  97 1414]]\n",
      "              precision    recall  f1-score   support\n",
      "\n",
      "           0       0.93      0.86      0.89      1489\n",
      "           1       0.87      0.94      0.90      1511\n",
      "\n",
      "    accuracy                           0.90      3000\n",
      "   macro avg       0.90      0.90      0.90      3000\n",
      "weighted avg       0.90      0.90      0.90      3000\n",
      "\n"
     ]
    }
   ],
   "source": [
    "# Display the Confusion Matrix and Classification Report \n",
    "from sklearn.metrics import classification_report, confusion_matrix\n",
    "print(confusion_matrix(y_test, y_pred))\n",
    "print(classification_report(y_test, y_pred))"
   ]
  },
  {
   "cell_type": "code",
   "execution_count": null,
   "metadata": {
    "id": "5HLaMIt6Skd-"
   },
   "outputs": [],
   "source": [
    "#calculating the mean of error for all the predicted values where K ranges (1,40)\n",
    "\n",
    "error = []\n",
    "\n",
    "# Calculating error for K values between 1 and 40\n",
    "for i in range(1, 40):\n",
    "    knn = KNeighborsClassifier(n_neighbors=i)\n",
    "    knn.fit(x_train, y_train)\n",
    "    pred_i = knn.predict(x_test)\n",
    "    error.append(np.mean(pred_i != y_test))"
   ]
  },
  {
   "cell_type": "code",
   "execution_count": null,
   "metadata": {
    "colab": {
     "base_uri": "https://localhost:8080/",
     "height": 427
    },
    "id": "3LIL92PSSqxt",
    "outputId": "0c24e03f-efd5-481f-908d-e8d718a27ca0"
   },
   "outputs": [
    {
     "data": {
      "text/plain": [
       "Text(0, 0.5, 'Mean Error')"
      ]
     },
     "execution_count": 72,
     "metadata": {
      "tags": []
     },
     "output_type": "execute_result"
    },
    {
     "data": {
      "image/png": "[encoded data removed]",
      "text/plain": [
       "<Figure size 864x432 with 1 Axes>"
      ]
     },
     "metadata": {
      "tags": []
     },
     "output_type": "display_data"
    }
   ],
   "source": [
    "#plot shows the error values against K values\n",
    "\n",
    "plt.figure(figsize=(12, 6))\n",
    "plt.plot(range(1, 40), error, color='red', linestyle='dashed', marker='o',\n",
    "         markerfacecolor='blue', markersize=10)\n",
    "plt.title('Error Rate K Value')\n",
    "plt.xlabel('K Value')\n",
    "plt.ylabel('Mean Error')\n",
    "#the shows that optimum k value for KNN classifier. Our best k is around 4 for this model."
   ]
  },
  {
   "cell_type": "markdown",
   "metadata": {
    "id": "1IDjyif1G4OP"
   },
   "source": [
    "### Exercise 4.6\n",
    "1. In your own words explain sklearns classification matric.\n",
    "\n",
    "Classification matrix is also known as confusion matrix. It is a table that used to evaluate the performance of statistical  or classification models. It shows how many actual conditions are predicted correctly and incorrectly. The matrix shows actual and predicted conditions such as True Positive,True negative,False Positive.\n",
    "\n",
    "2. Knowing and understanding the classification matric define the following and in your own words explain their importance.\n",
    "\n",
    "* Precision\n",
    "* Recall\n",
    "* F1-score\n",
    "\n",
    "\n",
    "*   Precision is true positives relative to the sum of true positives and false positives. Precision attempts to answer \"**What proportion of positive identifications was actually correct?\"**\n",
    "*   Recall is true positives relative to the sum of true positives and false negative. Recall attempts to answer; **What proportion of actual positives was identified correctly?**\n",
    "Precision and recall are typically inversely related\n",
    "As precision increases, recall falls and vice-versa\n",
    "\n",
    "F1 = 2 * (precision * recall) / (precision + recall)\n",
    "\n",
    "Thee F1 score is a weighed(harmonic) average value that contains equal contribution from precision and recall value. Its value ranges between 0 and 1. 1 Bing the best possible outcome, indicating perfect precision and recall. Whereas 0 means that either the precision or the recall is zero.\n"
   ]
  },
  {
   "cell_type": "markdown",
   "metadata": {
    "id": "KyVm4qomHj7d"
   },
   "source": [
    "ANSWER HERE:"
   ]
  },
  {
   "cell_type": "markdown",
   "metadata": {
    "id": "QMj_O5dlHTe7"
   },
   "source": [
    "### Exercise 4.7\n",
    "In your own words which of the above models is the best classifer and why? \n",
    "\n",
    "Accuracy is one of the first metrics that I look into to check classifiers performance but it is not always a reliable performance metric. However, Logistic regression and SVC delivered 92% occuracy. Their precision, recall and ROC scores are also higher than KNN and Random Forest Classifair. According to their confusion metric results, TP and TN predicted numbers are higher on these models relatively FN and FP numbers are also lower. Therefore, Logistic regression and SVC are the best classifiers. The accuracy on both models could be further improved with hyperparameter tuning methods.\n",
    "\n"
   ]
  }
 ],
 "metadata": {
  "colab": {
   "collapsed_sections": [],
   "name": "VM_DS Test_OyaKesgin.ipynb",
   "provenance": []
  },
  "kernelspec": {
   "display_name": "Python 3",
   "language": "python",
   "name": "python3"
  },
  "language_info": {
   "codemirror_mode": {
    "name": "ipython",
    "version": 3
   },
   "file_extension": ".py",
   "mimetype": "text/x-python",
   "name": "python",
   "nbconvert_exporter": "python",
   "pygments_lexer": "ipython3",
   "version": "3.8.5"
  }
 },
 "nbformat": 4,
 "nbformat_minor": 1
}
